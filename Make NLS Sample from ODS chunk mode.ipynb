{
 "cells": [
  {
   "cell_type": "code",
   "execution_count": 2,
   "id": "982f0a82-67e1-4480-bae1-9e48b0e2df2b",
   "metadata": {},
   "outputs": [],
   "source": [
    "from pathlib import Path\n",
    "from tqdm import tqdm\n",
    "\n",
    "import pandas as pd\n",
    "import numpy as np\n",
    "import geopandas as gpd\n",
    "import matplotlib.pyplot as plt"
   ]
  },
  {
   "cell_type": "code",
   "execution_count": 15,
   "id": "cbf9558b-3c22-4972-8d09-baf193f6b358",
   "metadata": {},
   "outputs": [],
   "source": [
    "sample_size = 1_000_000"
   ]
  },
  {
   "cell_type": "code",
   "execution_count": 10,
   "id": "a1ed22a5-0346-46f7-a155-111a1bfc5d30",
   "metadata": {},
   "outputs": [],
   "source": [
    "inat_ods_dir = Path(\"/workspace/opendata/\")"
   ]
  },
  {
   "cell_type": "code",
   "execution_count": 12,
   "id": "81c90058-5b14-493f-8d93-483e04e8118f",
   "metadata": {},
   "outputs": [],
   "source": [
    "with open(inat_ods_dir / \"observations.csv\", \"r\") as f:\n",
    "    observations_count = sum(1 for _ in f)"
   ]
  },
  {
   "cell_type": "code",
   "execution_count": 30,
   "id": "9b2a7958-3513-4971-a6a1-7fe815912164",
   "metadata": {},
   "outputs": [],
   "source": [
    "chunk_size = 1_000_000\n",
    "chunk_count = int(observations_count / chunk_size)\n",
    "# add 10% in each chunk sample for NA rows\n",
    "chunk_sample_size = int(1.10 * (sample_size / chunk_count))"
   ]
  },
  {
   "cell_type": "code",
   "execution_count": null,
   "id": "7bfe352c-186a-4928-b667-45877d979e78",
   "metadata": {},
   "outputs": [],
   "source": [
    "print(f\"Sample size: {sample_size}\") \n",
    "print(f\"Chunk count: {chunk_count}\")\n",
    "print(f\"Chunk sample size: {chunk_sample_size}\") \n",
    "print(f\"Chunk count * size: {chunk_count * chunk_sample_size}\") "
   ]
  },
  {
   "cell_type": "code",
   "execution_count": 62,
   "id": "74fe842c-75fc-4848-8289-43c9ba5cae62",
   "metadata": {},
   "outputs": [],
   "source": [
    "all_obs = pd.read_csv(\n",
    "    inat_ods_dir / \"observations.csv\",\n",
    "    sep=\"\\t\",\n",
    "    usecols=[\n",
    "        \"observation_uuid\", \n",
    "        \"observer_id\", \n",
    "        \"latitude\", \n",
    "        \"longitude\", \n",
    "        \"taxon_id\", \n",
    "        \"quality_grade\",\n",
    "        \"observed_on\",\n",
    "    ],\n",
    "    dtype={\n",
    "        \"quality_grade\": \"category\"\n",
    "    },\n",
    "    chunksize=chunk_size\n",
    ")"
   ]
  },
  {
   "cell_type": "code",
   "execution_count": null,
   "id": "a5affd94-520b-489d-b0b6-147cb3f80ba3",
   "metadata": {},
   "outputs": [],
   "source": [
    "pbar = tqdm(\n",
    "    total=chunk_count,\n",
    "    bar_format=\"{l_bar}{bar:30}{r_bar}{bar:-30b}\",\n",
    "    dynamic_ncols=True\n",
    ")\n",
    "\n",
    "obs_chunks = []\n",
    "for chunk in all_obs:\n",
    "    sampled_chunk = chunk.sample(chunk_sample_size)\n",
    "    sampled_chunk = sampled_chunk.dropna()\n",
    "    obs_chunks.append(sampled_chunk)\n",
    "    pbar.update(1)"
   ]
  },
  {
   "cell_type": "code",
   "execution_count": 39,
   "id": "2999cc72-51f8-4e14-b612-ef6747bf6ce5",
   "metadata": {},
   "outputs": [],
   "source": [
    "obs = pd.concat(obs_chunks).head(sample_size)"
   ]
  },
  {
   "cell_type": "markdown",
   "id": "5c505429-124f-4d50-b7cc-5962ef605796",
   "metadata": {},
   "source": [
    "# SAMPLE {sample_size} GOOD OBSERVATIONS"
   ]
  },
  {
   "cell_type": "code",
   "execution_count": null,
   "id": "9bba31c6-01cb-4666-961d-609ab764c035",
   "metadata": {},
   "outputs": [],
   "source": [
    "obs.info()"
   ]
  },
  {
   "cell_type": "code",
   "execution_count": 41,
   "id": "ba9d0eff-2929-4a91-99e4-a6c3c8c06279",
   "metadata": {},
   "outputs": [],
   "source": [
    "# finish cleaning on our 1M sample\n",
    "obs.taxon_id = obs.taxon_id.astype(np.int32)\n",
    "obs.observer_id = obs.observer_id.astype(np.int32)\n",
    "\n",
    "# skipping this since i think elastic will do infer dates?\n",
    "#obs.observed_on = pd.to_datetime(obs.observed_on)"
   ]
  },
  {
   "cell_type": "markdown",
   "id": "a41d1812-716c-46e5-89bd-9c030b34140c",
   "metadata": {},
   "source": [
    "# join on world geo dataframe to get continent and country from lat and lng"
   ]
  },
  {
   "cell_type": "code",
   "execution_count": 42,
   "id": "d40c0264-3244-4b6f-9f09-b9e60b3a47ba",
   "metadata": {},
   "outputs": [],
   "source": [
    "obs_gdf = gpd.GeoDataFrame(\n",
    "    obs, geometry=gpd.points_from_xy(obs.longitude, obs.latitude), crs=\"EPSG:4326\"\n",
    ")"
   ]
  },
  {
   "cell_type": "code",
   "execution_count": 43,
   "id": "1721973a-b4ab-4dc7-9f13-7149e42aa599",
   "metadata": {},
   "outputs": [
    {
     "name": "stderr",
     "output_type": "stream",
     "text": [
      "/tmp/ipykernel_3606221/3926210268.py:1: FutureWarning: The geopandas.dataset module is deprecated and will be removed in GeoPandas 1.0. You can get the original 'naturalearth_lowres' data from https://www.naturalearthdata.com/downloads/110m-cultural-vectors/.\n",
      "  world = gpd.read_file(gpd.datasets.get_path('naturalearth_lowres'))\n"
     ]
    }
   ],
   "source": [
    "world = gpd.read_file(gpd.datasets.get_path('naturalearth_lowres'))"
   ]
  },
  {
   "cell_type": "code",
   "execution_count": 44,
   "id": "0448e473-0beb-463b-9a9b-10fa83099074",
   "metadata": {},
   "outputs": [],
   "source": [
    "obs_gdf = gpd.sjoin(obs_gdf, world)"
   ]
  },
  {
   "cell_type": "code",
   "execution_count": 45,
   "id": "557a0c45-5f03-49f4-8cde-ac70a1d96559",
   "metadata": {},
   "outputs": [],
   "source": [
    "obs_gdf = obs_gdf[[\n",
    "    \"observation_uuid\",\n",
    "    \"observer_id\",\n",
    "    \"taxon_id\",\n",
    "    \"quality_grade\",\n",
    "    \"observed_on\",\n",
    "    \"continent\",\n",
    "    \"name\",\n",
    "]]"
   ]
  },
  {
   "cell_type": "code",
   "execution_count": 46,
   "id": "ac3fabc1-57fc-4f5a-a7e6-c201f1c767db",
   "metadata": {},
   "outputs": [],
   "source": [
    "obs_gdf.rename({\"name\": \"country_name\"}, axis=1, inplace=True)"
   ]
  },
  {
   "cell_type": "code",
   "execution_count": 47,
   "id": "9e65fb05-11fe-4a5f-a117-2d73c7aed4c4",
   "metadata": {},
   "outputs": [
    {
     "data": {
      "text/plain": [
       "continent\n",
       "North America              552085\n",
       "Europe                     201991\n",
       "Asia                        54773\n",
       "Oceania                     52116\n",
       "South America               37051\n",
       "Africa                      27751\n",
       "Antarctica                     13\n",
       "Seven seas (open ocean)         5\n",
       "Name: count, dtype: int64"
      ]
     },
     "execution_count": 47,
     "metadata": {},
     "output_type": "execute_result"
    }
   ],
   "source": [
    "obs_gdf.continent.value_counts()"
   ]
  },
  {
   "cell_type": "code",
   "execution_count": 48,
   "id": "8de423dd-3d4f-4c75-a586-6fc8c6f59b18",
   "metadata": {},
   "outputs": [
    {
     "data": {
      "text/html": [
       "<div>\n",
       "<style scoped>\n",
       "    .dataframe tbody tr th:only-of-type {\n",
       "        vertical-align: middle;\n",
       "    }\n",
       "\n",
       "    .dataframe tbody tr th {\n",
       "        vertical-align: top;\n",
       "    }\n",
       "\n",
       "    .dataframe thead th {\n",
       "        text-align: right;\n",
       "    }\n",
       "</style>\n",
       "<table border=\"1\" class=\"dataframe\">\n",
       "  <thead>\n",
       "    <tr style=\"text-align: right;\">\n",
       "      <th></th>\n",
       "      <th>observation_uuid</th>\n",
       "      <th>observer_id</th>\n",
       "      <th>taxon_id</th>\n",
       "      <th>quality_grade</th>\n",
       "      <th>observed_on</th>\n",
       "      <th>continent</th>\n",
       "      <th>country_name</th>\n",
       "    </tr>\n",
       "  </thead>\n",
       "  <tbody>\n",
       "    <tr>\n",
       "      <th>73905654</th>\n",
       "      <td>676725b2-9c0e-4272-8d55-cd7215c5e3aa</td>\n",
       "      <td>1138587</td>\n",
       "      <td>48233</td>\n",
       "      <td>research</td>\n",
       "      <td>2022-05-18</td>\n",
       "      <td>Oceania</td>\n",
       "      <td>Australia</td>\n",
       "    </tr>\n",
       "    <tr>\n",
       "      <th>95224968</th>\n",
       "      <td>4f88a514-4d4c-40e0-80bc-eeec28a67697</td>\n",
       "      <td>3708750</td>\n",
       "      <td>1308422</td>\n",
       "      <td>needs_id</td>\n",
       "      <td>2023-02-15</td>\n",
       "      <td>Oceania</td>\n",
       "      <td>Australia</td>\n",
       "    </tr>\n",
       "    <tr>\n",
       "      <th>120006233</th>\n",
       "      <td>592979ba-9265-407f-830d-c177948c606f</td>\n",
       "      <td>6709768</td>\n",
       "      <td>55576</td>\n",
       "      <td>research</td>\n",
       "      <td>2023-09-24</td>\n",
       "      <td>Europe</td>\n",
       "      <td>Latvia</td>\n",
       "    </tr>\n",
       "  </tbody>\n",
       "</table>\n",
       "</div>"
      ],
      "text/plain": [
       "                               observation_uuid  observer_id  taxon_id  \\\n",
       "73905654   676725b2-9c0e-4272-8d55-cd7215c5e3aa      1138587     48233   \n",
       "95224968   4f88a514-4d4c-40e0-80bc-eeec28a67697      3708750   1308422   \n",
       "120006233  592979ba-9265-407f-830d-c177948c606f      6709768     55576   \n",
       "\n",
       "          quality_grade observed_on continent country_name  \n",
       "73905654       research  2022-05-18   Oceania    Australia  \n",
       "95224968       needs_id  2023-02-15   Oceania    Australia  \n",
       "120006233      research  2023-09-24    Europe       Latvia  "
      ]
     },
     "execution_count": 48,
     "metadata": {},
     "output_type": "execute_result"
    }
   ],
   "source": [
    "obs_gdf.sample(3)"
   ]
  },
  {
   "cell_type": "markdown",
   "id": "db676456-1c59-4e67-9b31-d733e77da151",
   "metadata": {},
   "source": [
    "# merge in the rest of the ods export to get taxonomy, photos, and observer login names"
   ]
  },
  {
   "cell_type": "code",
   "execution_count": 49,
   "id": "8f2a87e4-b4c8-468b-9fb3-a98c2ed3674d",
   "metadata": {},
   "outputs": [],
   "source": [
    "tax = pd.read_csv(\n",
    "    inat_ods_dir / \"taxa.csv\",\n",
    "    sep=\"\\t\",\n",
    "    usecols=[\"taxon_id\", \"ancestry\", \"name\", \"active\"],\n",
    ")"
   ]
  },
  {
   "cell_type": "code",
   "execution_count": 50,
   "id": "2f6a76f8-ab61-4f38-98c3-6eb9ef730de6",
   "metadata": {},
   "outputs": [],
   "source": [
    "tax = tax[tax.active==True]\n",
    "tax = tax.dropna()"
   ]
  },
  {
   "cell_type": "code",
   "execution_count": 51,
   "id": "2a76c69a-0d73-4f72-a42d-d039904ac4b4",
   "metadata": {},
   "outputs": [],
   "source": [
    "tax.rename({\"name\": \"taxon_name\"}, axis=1, inplace=True)\n",
    "tax = tax[[\"taxon_id\", \"taxon_name\", \"ancestry\"]]"
   ]
  },
  {
   "cell_type": "code",
   "execution_count": null,
   "id": "791f08c0-218b-4949-807f-eba2074d425d",
   "metadata": {},
   "outputs": [],
   "source": [
    "tax.sample(3)"
   ]
  },
  {
   "cell_type": "code",
   "execution_count": 53,
   "id": "c2c065a1-d462-46ce-8af0-a27f6ed26441",
   "metadata": {},
   "outputs": [],
   "source": [
    "observers = pd.read_csv(\n",
    "    inat_ods_dir / \"observers.csv\",\n",
    "    sep=\"\\t\",\n",
    "    usecols=[\"observer_id\", \"login\"],\n",
    ")\n",
    "observers.rename({\"login\": \"observer_login\"}, axis=1, inplace=True)\n"
   ]
  },
  {
   "cell_type": "code",
   "execution_count": null,
   "id": "a86ba212-3145-4f8e-82f3-661d1dde9054",
   "metadata": {},
   "outputs": [],
   "source": [
    "observers.sample(3)"
   ]
  },
  {
   "cell_type": "code",
   "execution_count": null,
   "id": "494d475c-131a-449f-8d12-79c001191749",
   "metadata": {},
   "outputs": [],
   "source": [
    "with open(inat_ods_dir / \"photos.csv\", \"r\") as f:\n",
    "    photos_count = sum(1 for _ in f)"
   ]
  },
  {
   "cell_type": "code",
   "execution_count": 55,
   "id": "44b7b58f-4a24-41d0-b13c-016f0534e1e1",
   "metadata": {},
   "outputs": [],
   "source": [
    "photos = pd.read_csv(\n",
    "    inat_ods_dir / \"photos.csv\",\n",
    "    sep=\"\\t\",\n",
    "    usecols=[\"photo_id\", \"observation_uuid\", \"extension\"],\n",
    "    dtype={\n",
    "        \"photo_id\": np.int32,\n",
    "        \"extension\": \"category\",\n",
    "    },\n",
    "    chunksize=chunk_size\n",
    ")"
   ]
  },
  {
   "cell_type": "code",
   "execution_count": 56,
   "id": "4b8fef66-8d1a-46d8-a4ef-7b621f157d46",
   "metadata": {},
   "outputs": [],
   "source": [
    "pbar = tqdm(\n",
    "    total=chunk_count,\n",
    "    bar_format=\"{l_bar}{bar:30}{r_bar}{bar:-30b}\",\n",
    "    dynamic_ncols=True\n",
    ")\n",
    "\n",
    "obs_with_other_data_chunks = []\n",
    "for photo_chunk in photos:\n",
    "    obs_with_photos_chunk = pd.merge(\n",
    "        obs_gdf, photo_chunk, left_on=\"observation_uuid\", right_on=\"observation_uuid\",\n",
    "    )\n",
    "    obs_photos_with_taxa_chunk = pd.merge(\n",
    "        obs_with_photos_chunk, tax, left_on=\"taxon_id\", right_on=\"taxon_id\"\n",
    "    )\n",
    "    obs_photos_taxa_with_observers_chunk = pd.merge(\n",
    "        obs_photos_with_taxa_chunk, observers, left_on=\"observer_id\", right_on=\"observer_id\"\n",
    "    )\n",
    "    obs_with_other_data_chunks.append(obs_photos_taxa_with_observers_chunk)"
   ]
  },
  {
   "cell_type": "code",
   "execution_count": 57,
   "id": "73c8b82a-f572-4f65-a4ed-81656da2c8dd",
   "metadata": {},
   "outputs": [],
   "source": [
    "obs_photos_taxa_with_observers = pd.concat(obs_with_other_data_chunks)"
   ]
  },
  {
   "cell_type": "code",
   "execution_count": null,
   "id": "23e75c94-8b95-4136-a6b6-053c26dc2c63",
   "metadata": {},
   "outputs": [],
   "source": [
    "len(obs_photos_taxa_with_observers)"
   ]
  },
  {
   "cell_type": "code",
   "execution_count": 59,
   "id": "857317e7-9f2a-42f5-b5ec-34ac8843d49a",
   "metadata": {},
   "outputs": [],
   "source": [
    "obs_photos_taxa_with_observers.to_csv(\n",
    "    inat_ods_dir / \"complete_obs_sample.csv\",\n",
    "    index=False,\n",
    ")"
   ]
  }
 ],
 "metadata": {
  "kernelspec": {
   "display_name": "Python 3 (ipykernel)",
   "language": "python",
   "name": "python3"
  },
  "language_info": {
   "codemirror_mode": {
    "name": "ipython",
    "version": 3
   },
   "file_extension": ".py",
   "mimetype": "text/x-python",
   "name": "python",
   "nbconvert_exporter": "python",
   "pygments_lexer": "ipython3",
   "version": "3.10.12"
  }
 },
 "nbformat": 4,
 "nbformat_minor": 5
}
